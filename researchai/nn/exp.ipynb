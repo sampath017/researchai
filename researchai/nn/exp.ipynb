{
 "cells": [
  {
   "cell_type": "code",
<<<<<<< HEAD
   "execution_count": 1,
=======
   "execution_count": 33,
>>>>>>> 1b956ffb6a119c690cb4113e6ee05f4b61a8bde6
   "id": "8d83c694",
   "metadata": {},
   "outputs": [],
   "source": [
    "import sys\n",
<<<<<<< HEAD
    "from pathlib import Path\n",
    "\n",
    "sys.path.append((Path.cwd() / \"../..\").resolve().as_posix())"
=======
    "\n",
    "from pathlib import Path\n",
    "\n",
    "sys.path.append((Path.cwd() / \"../..\").resolve().as_posix())\n"
>>>>>>> 1b956ffb6a119c690cb4113e6ee05f4b61a8bde6
   ]
  },
  {
   "cell_type": "code",
<<<<<<< HEAD
   "execution_count": 2,
=======
   "execution_count": 34,
>>>>>>> 1b956ffb6a119c690cb4113e6ee05f4b61a8bde6
   "id": "d526e83f",
   "metadata": {},
   "outputs": [],
   "source": [
    "import numpy as np\n",
    "import matplotlib.pyplot as plt\n",
    "import torch\n",
    "import torch.nn.functional as F\n",
    "\n",
    "from researchai.nn.layers import Dense\n",
<<<<<<< HEAD
    "from researchai.nn.activations import ReLU, Softmax\n",
    "from researchai.nn.losses import CategoricalCrossEntropy\n",
    "from researchai.nn.metrics import classification_accuracy\n",
    "from researchai.nn.datasets import spiral"
=======
    "from datasets import spiral"
>>>>>>> 1b956ffb6a119c690cb4113e6ee05f4b61a8bde6
   ]
  },
  {
   "cell_type": "code",
<<<<<<< HEAD
   "execution_count": 5,
=======
   "execution_count": 43,
>>>>>>> 1b956ffb6a119c690cb4113e6ee05f4b61a8bde6
   "id": "33817b7a",
   "metadata": {},
   "outputs": [
    {
<<<<<<< HEAD
     "name": "stdout",
     "output_type": "stream",
     "text": [
      "1.0986114455148113 0.30333333333333334\n"
     ]
    }
   ],
   "source": [
    "X, y = spiral(samples=100, classes=3)\n",
    "\n",
    "dense1 = Dense(2, 20)\n",
    "activation1 = ReLU()\n",
    "dense2 = Dense(20, 3)\n",
    "activation2 = Softmax()\n",
    "\n",
    "loss_fn = CategoricalCrossEntropy()\n",
    "\n",
    "# Forward pass\n",
    "dense1.forward(X)\n",
    "activation1.forward(dense1.outputs)\n",
    "dense2.forward(activation1.outputs)\n",
    "activation2.forward(dense2.outputs)\n",
    "\n",
    "loss = loss_fn.calculate(activation2.outputs, y)\n",
    "acc = classification_accuracy(activation2.outputs, y)\n",
    "\n",
    "print(loss, acc)\n"
   ]
  },
  {
   "cell_type": "code",
   "execution_count": 6,
   "id": "1bea0386",
   "metadata": {},
   "outputs": [
    {
     "data": {
      "text/plain": [
       "0.3333333333333333"
      ]
     },
     "execution_count": 6,
=======
     "data": {
      "text/plain": [
       "array([[1., 0., 0., 0.],\n",
       "       [0., 1., 0., 0.],\n",
       "       [0., 0., 1., 0.],\n",
       "       [0., 0., 0., 1.]])"
      ]
     },
     "execution_count": 43,
>>>>>>> 1b956ffb6a119c690cb4113e6ee05f4b61a8bde6
     "metadata": {},
     "output_type": "execute_result"
    }
   ],
<<<<<<< HEAD
=======
   "source": [
    "np.eye(4, 4)"
   ]
  },
  {
   "cell_type": "code",
   "execution_count": null,
   "id": "1bea0386",
   "metadata": {},
   "outputs": [],
>>>>>>> 1b956ffb6a119c690cb4113e6ee05f4b61a8bde6
   "source": []
  }
 ],
 "metadata": {
  "kernelspec": {
   "display_name": "Python 3 (ipykernel)",
   "language": "python",
   "name": "python3"
  },
  "language_info": {
   "codemirror_mode": {
    "name": "ipython",
    "version": 3
   },
   "file_extension": ".py",
   "mimetype": "text/x-python",
   "name": "python",
   "nbconvert_exporter": "python",
   "pygments_lexer": "ipython3",
   "version": "3.10.11"
  }
 },
 "nbformat": 4,
 "nbformat_minor": 5
}
