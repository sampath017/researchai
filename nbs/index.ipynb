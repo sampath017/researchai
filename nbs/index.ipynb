{
 "cells": [
  {
   "attachments": {},
   "cell_type": "markdown",
   "metadata": {},
   "source": [
    "# ResearchAI\n",
    "\n",
    "> Basic Machine learning and Neural Networks algorithms are implemented for education and research purposes ."
   ]
  },
  {
   "attachments": {},
   "cell_type": "markdown",
   "metadata": {},
   "source": [
    "## Reading source code\n",
    "\n",
    "The source code is written using `jupyter notebooks` so go to `nbs` dir and start from `00_` prefix file. The code is written in that order."
   ]
  },
  {
   "attachments": {},
   "cell_type": "markdown",
   "metadata": {},
   "source": [
    "## Install"
   ]
  },
  {
   "attachments": {},
   "cell_type": "markdown",
   "metadata": {},
   "source": [
    "### Install with pypi\n",
    "```sh\n",
    "pip install researchai\n",
    "```\n",
    "\n",
    "### Install from source\n",
    "```sh\n",
    "git clone https://github.com/sampath017/researchai.git && cd researchai\n",
    "```\n",
    "the source code is in `researchai` dir and it was produced by notebooks in the `nbs` dir by using [nbdev](https://nbdev.fast.ai/)."
   ]
  },
  {
   "attachments": {},
   "cell_type": "markdown",
   "metadata": {},
   "source": [
    "## Usage"
   ]
  },
  {
   "cell_type": "code",
   "execution_count": null,
   "metadata": {},
   "outputs": [],
   "source": [
    "from researchai.nn.layers import *"
   ]
  },
  {
   "cell_type": "code",
   "execution_count": null,
   "metadata": {},
   "outputs": [],
   "source": []
  }
 ],
 "metadata": {
  "kernelspec": {
   "display_name": "python3",
   "language": "python",
   "name": "python3"
  }
 },
 "nbformat": 4,
 "nbformat_minor": 4
}
