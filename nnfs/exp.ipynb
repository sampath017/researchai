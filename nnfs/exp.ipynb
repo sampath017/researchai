{
  "cells": [
    {
      "cell_type": "code",
      "execution_count": 1,
      "id": "8d83c694",
      "metadata": {},
      "outputs": [],
      "source": [
        "import sys\n",
        "from pathlib import Path\n",
        "\n",
        "sys.path.append((Path.cwd() / \"../\").resolve().as_posix())"
      ]
    },
    {
      "cell_type": "code",
      "execution_count": 2,
      "id": "d526e83f",
      "metadata": {},
      "outputs": [],
      "source": [
        "import numpy as np\n",
        "import matplotlib.pyplot as plt\n",
        "import torch\n",
        "import torch.nn.functional as F\n",
        "\n",
        "from nnfs.layers import Dense\n",
        "from nnfs.activations import ReLU, Softmax\n",
        "from nnfs.losses import CategoricalCrossEntropy\n",
        "from nnfs.metrics import classification_accuracy\n",
        "from nnfs.datasets import spiral\n",
        "\n",
        "from nnfs.utils import one_hot"
      ]
    },
    {
      "cell_type": "markdown",
      "id": "40a69157",
      "metadata": {},
      "source": [
        "# Forward pass"
      ]
    },
    {
      "cell_type": "code",
      "execution_count": 3,
      "id": "33817b7a",
      "metadata": {},
      "outputs": [
        {
          "name": "stdout",
          "output_type": "stream",
          "text": [
            "1.0986087997688934 0.36\n"
          ]
        }
      ],
      "source": [
        "X, y = spiral(samples=100, classes=3)\n",
        "\n",
        "dense1 = Dense(2, 20)\n",
        "activation1 = ReLU()\n",
        "dense2 = Dense(20, 3)\n",
        "activation2 = Softmax()\n",
        "\n",
        "loss_fn = CategoricalCrossEntropy()\n",
        "\n",
        "# Forward pass\n",
        "dense1.forward(X)\n",
        "activation1.forward(dense1.outputs)\n",
        "dense2.forward(activation1.outputs)\n",
        "activation2.forward(dense2.outputs)\n",
        "\n",
        "loss = loss_fn.calculate(activation2.outputs, y)\n",
        "acc = classification_accuracy(activation2.outputs, y)\n",
        "\n",
        "print(loss, acc)\n"
      ]
    },
    {
      "cell_type": "code",
      "execution_count": null,
      "id": "17cfe4ea",
      "metadata": {},
      "outputs": [],
      "source": []
    }
  ],
  "metadata": {
    "kernelspec": {
      "display_name": "Python 3 (ipykernel)",
      "language": "python",
      "name": "python3"
    },
    "language_info": {
      "codemirror_mode": {
        "name": "ipython",
        "version": 3
      },
      "file_extension": ".py",
      "mimetype": "text/x-python",
      "name": "python",
      "nbconvert_exporter": "python",
      "pygments_lexer": "ipython3",
      "version": "3.10.11"
    }
  },
  "nbformat": 4,
  "nbformat_minor": 5
}
